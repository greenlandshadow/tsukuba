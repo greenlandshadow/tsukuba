{
 "cells": [
  {
   "cell_type": "code",
   "execution_count": 1,
   "metadata": {},
   "outputs": [],
   "source": [
    "from random import randint\n",
    "from math import sqrt\n",
    "\n",
    "def sq_dist(p,q):\n",
    "    return pow(p[0] - q[0],2) +pow(p[1]- q[1],2)\n",
    "\n",
    "def linear_search(points,query):\n",
    "    neighbor_sqd =float(\"inf\")\n",
    "    for point in points:\n",
    "        d= sq_dist(point,query)\n",
    "        if d<neighbor_sqd:\n",
    "            neighbor= point\n",
    "            neighbor_sqd=d\n",
    "    return neighbor\n",
    "\n",
    "def neighbor_index(points,query):\n",
    "    return points.index(linear_search(points,query))\n",
    "\n",
    "def standardize(data):\n",
    "    mx= sum([d[0] for d in data]) / len(data)\n",
    "    my= sum([d[1] for d in data]) / len(data)\n",
    "    sdx= sqrt(sum([pow((d[0]-mx),2) for d in data])/len(data))\n",
    "    sdy= sqrt(sum([pow((d[1]-mx),2) for d in data])/len(data))\n",
    "    return [((d[0]-mx)/sdx,(d[1]-my)/sdy) for d in data]"
   ]
  },
  {
   "cell_type": "code",
   "execution_count": 2,
   "metadata": {},
   "outputs": [],
   "source": [
    "def clustering(data,k,classification):\n",
    "    centroids =[]\n",
    "    for c in range(k):\n",
    "        members =[i for i in range(len(data)) if classification[i] == c]\n",
    "        if len(members) > 0:\n",
    "            sumx =sum([data[i][0] for i in members])\n",
    "            sumy =sum([data[i][1] for i in members])\n",
    "            centroids.append((sumx /len(members),sumy /len(members)))\n",
    "    return centroids\n",
    "        "
   ]
  },
  {
   "cell_type": "code",
   "execution_count": 3,
   "metadata": {},
   "outputs": [],
   "source": [
    "def k_means(data,k):\n",
    "    temporary = [randint(0, k - 1) for i in range(len(data))]\n",
    "    classification =[]\n",
    "    while classification != temporary :\n",
    "        classification =temporary\n",
    "        centroids =clustering(data, k, classification)\n",
    "        temporary =[neighbor_index(centroids,d)for d in data]\n",
    "    return classification"
   ]
  },
  {
   "cell_type": "code",
   "execution_count": 4,
   "metadata": {},
   "outputs": [
    {
     "data": {
      "text/plain": [
       "[3,\n",
       " 0,\n",
       " 1,\n",
       " 3,\n",
       " 2,\n",
       " 3,\n",
       " 3,\n",
       " 0,\n",
       " 1,\n",
       " 4,\n",
       " 1,\n",
       " 4,\n",
       " 3,\n",
       " 4,\n",
       " 0,\n",
       " 4,\n",
       " 2,\n",
       " 3,\n",
       " 4,\n",
       " 2,\n",
       " 0,\n",
       " 0,\n",
       " 4,\n",
       " 1,\n",
       " 1,\n",
       " 1,\n",
       " 1,\n",
       " 2,\n",
       " 2,\n",
       " 1,\n",
       " 2,\n",
       " 1,\n",
       " 1,\n",
       " 0,\n",
       " 0,\n",
       " 1,\n",
       " 2,\n",
       " 1,\n",
       " 0,\n",
       " 1,\n",
       " 1,\n",
       " 4,\n",
       " 4,\n",
       " 0,\n",
       " 4,\n",
       " 0,\n",
       " 3,\n",
       " 0,\n",
       " 2,\n",
       " 2]"
      ]
     },
     "execution_count": 4,
     "metadata": {},
     "output_type": "execute_result"
    }
   ],
   "source": [
    "data =[(randint(0,100),randint(0,200)) for i in range(50)]\n",
    "k_means(standardize(data),5)"
   ]
  },
  {
   "cell_type": "code",
   "execution_count": 5,
   "metadata": {},
   "outputs": [
    {
     "data": {
      "text/plain": [
       "[(16, 155),\n",
       " (60, 106),\n",
       " (79, 21),\n",
       " (11, 155),\n",
       " (34, 56),\n",
       " (12, 157),\n",
       " (32, 137),\n",
       " (55, 171),\n",
       " (73, 133),\n",
       " (24, 41),\n",
       " (75, 12),\n",
       " (27, 66),\n",
       " (17, 150),\n",
       " (15, 51),\n",
       " (56, 175),\n",
       " (11, 14),\n",
       " (55, 47),\n",
       " (1, 163),\n",
       " (24, 79),\n",
       " (31, 7),\n",
       " (44, 193),\n",
       " (39, 136),\n",
       " (14, 87),\n",
       " (87, 4),\n",
       " (66, 110),\n",
       " (90, 144),\n",
       " (84, 48),\n",
       " (42, 40),\n",
       " (53, 10),\n",
       " (99, 119),\n",
       " (55, 17),\n",
       " (93, 75),\n",
       " (82, 154),\n",
       " (67, 159),\n",
       " (48, 148),\n",
       " (79, 161),\n",
       " (64, 1),\n",
       " (93, 172),\n",
       " (39, 127),\n",
       " (69, 52),\n",
       " (77, 26),\n",
       " (6, 43),\n",
       " (24, 101),\n",
       " (51, 144),\n",
       " (10, 79),\n",
       " (35, 152),\n",
       " (24, 154),\n",
       " (61, 112),\n",
       " (46, 80),\n",
       " (30, 18)]"
      ]
     },
     "execution_count": 5,
     "metadata": {},
     "output_type": "execute_result"
    }
   ],
   "source": [
    "data"
   ]
  },
  {
   "cell_type": "code",
   "execution_count": 11,
   "metadata": {},
   "outputs": [
    {
     "data": {
      "image/png": "[encoded data removed]",
      "text/plain": [
       "<Figure size 480x480 with 1 Axes>"
      ]
     },
     "metadata": {},
     "output_type": "display_data"
    }
   ],
   "source": [
    "assignment =k_means(standardize(data),5)\n",
    "\n",
    "import matplotlib\n",
    "import matplotlib.pyplot as plt\n",
    "\n",
    "fig =plt.figure(figsize =matplotlib.figure.figaspect(1))\n",
    "plt.clf()\n",
    "ax =fig.add_subplot(1,1,1)\n",
    "ax.scatter([d[0] for d in data], [d[1] for d in data],s=60 ,c =assignment)\n",
    "plt.show()"
   ]
  }
 ],
 "metadata": {
  "kernelspec": {
   "display_name": "gis",
   "language": "python",
   "name": "python3"
  },
  "language_info": {
   "codemirror_mode": {
    "name": "ipython",
    "version": 3
   },
   "file_extension": ".py",
   "mimetype": "text/x-python",
   "name": "python",
   "nbconvert_exporter": "python",
   "pygments_lexer": "ipython3",
   "version": "3.11.5"
  }
 },
 "nbformat": 4,
 "nbformat_minor": 2
}
