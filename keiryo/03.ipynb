{
 "cells": [
  {
   "cell_type": "code",
   "execution_count": 1,
   "metadata": {},
   "outputs": [],
   "source": [
    "import pandas as pd\n",
    "import statsmodels.api as sm\n",
    "from statsmodels.formula.api import ols"
   ]
  },
  {
   "cell_type": "code",
   "execution_count": 2,
   "metadata": {},
   "outputs": [],
   "source": [
    "data = pd.read_csv(\"data3.csv\")"
   ]
  },
  {
   "cell_type": "code",
   "execution_count": 3,
   "metadata": {},
   "outputs": [
    {
     "data": {
      "text/plain": [
       "(count    1266.000000\n",
       " mean        0.499073\n",
       " std         0.371337\n",
       " min         0.000000\n",
       " 10%         0.000000\n",
       " 25%         0.166667\n",
       " 50%         0.500000\n",
       " 75%         0.833333\n",
       " 90%         1.000000\n",
       " max         1.000000\n",
       " Name: dem_ind, dtype: float64,\n",
       " 0.0,\n",
       " 1.0,\n",
       " 0.49907319871879935,\n",
       " 0.371336742550142,\n",
       " 0.0,\n",
       " 0.166666701,\n",
       " 0.5,\n",
       " 0.833333313,\n",
       " 1.0)"
      ]
     },
     "execution_count": 3,
     "metadata": {},
     "output_type": "execute_result"
    }
   ],
   "source": [
    "dem_ind_stats = data['dem_ind'].describe(percentiles=[0.1, 0.25, 0.5, 0.75, 0.9])\n",
    "dem_ind_min = dem_ind_stats['min']\n",
    "dem_ind_max = dem_ind_stats['max']\n",
    "dem_ind_mean = dem_ind_stats['mean']\n",
    "dem_ind_std = dem_ind_stats['std']\n",
    "dem_ind_10th = dem_ind_stats['10%']\n",
    "dem_ind_25th = dem_ind_stats['25%']\n",
    "dem_ind_50th = dem_ind_stats['50%']\n",
    "dem_ind_75th = dem_ind_stats['75%']\n",
    "dem_ind_90th = dem_ind_stats['90%']\n",
    "dem_ind_stats, dem_ind_min, dem_ind_max, dem_ind_mean, dem_ind_std, dem_ind_10th, dem_ind_25th, dem_ind_50th, dem_ind_75th, dem_ind_90th"
   ]
  },
  {
   "cell_type": "code",
   "execution_count": 6,
   "metadata": {},
   "outputs": [
    {
     "data": {
      "text/plain": [
       "0.9855555561111111"
      ]
     },
     "execution_count": 6,
     "metadata": {},
     "output_type": "execute_result"
    }
   ],
   "source": [
    "us_2000_dem_ind = data[(data['country'] == 'United States') & (data['year'] == 2000)]['dem_ind'].values\n",
    "us_avg_dem_ind = data[data['country'] == 'United States']['dem_ind'].mean()\n",
    "\n",
    "us_avg_dem_ind"
   ]
  },
  {
   "cell_type": "code",
   "execution_count": 7,
   "metadata": {},
   "outputs": [
    {
     "data": {
      "text/plain": [
       "array([1.])"
      ]
     },
     "execution_count": 7,
     "metadata": {},
     "output_type": "execute_result"
    }
   ],
   "source": [
    "us_2000_dem_ind"
   ]
  },
  {
   "cell_type": "code",
   "execution_count": 8,
   "metadata": {},
   "outputs": [
    {
     "data": {
      "text/plain": [
       "(array([0.]), 0.10925926755555555)"
      ]
     },
     "execution_count": 8,
     "metadata": {},
     "output_type": "execute_result"
    }
   ],
   "source": [
    "libya_2000_dem_ind = data[(data['country'] == 'Libya') & (data['year'] == 2000)]['dem_ind'].values\n",
    "libya_avg_dem_ind = data[data['country'] == 'Libya']['dem_ind'].mean()\n",
    "libya_2000_dem_ind, libya_avg_dem_ind"
   ]
  },
  {
   "cell_type": "code",
   "execution_count": 9,
   "metadata": {},
   "outputs": [
    {
     "data": {
      "text/plain": [
       "(['Australia', 'Austria', 'Barbados', 'Belgium', 'Belize'],\n",
       " ['Afghanistan', 'Angola', 'Brunei', 'Burundi', 'China'],\n",
       " ['Antigua', 'Argentina', 'Armenia', 'Bangladesh', 'Bolivia'])"
      ]
     },
     "execution_count": 9,
     "metadata": {},
     "output_type": "execute_result"
    }
   ],
   "source": [
    "country_avg_dem_ind = data.groupby('country')['dem_ind'].mean()\n",
    "countries_greater_0_95 = country_avg_dem_ind[country_avg_dem_ind > 0.95].head(5).index.tolist()\n",
    "countries_less_0_10 = country_avg_dem_ind[country_avg_dem_ind < 0.10].head(5).index.tolist()\n",
    "countries_between_0_3_and_0_7 = country_avg_dem_ind[(country_avg_dem_ind >= 0.3) & (country_avg_dem_ind <= 0.7)].head(5).index.tolist()\n",
    "countries_greater_0_95, countries_less_0_10, countries_between_0_3_and_0_7"
   ]
  },
  {
   "cell_type": "code",
   "execution_count": 10,
   "metadata": {},
   "outputs": [
    {
     "data": {
      "text/plain": [
       "(<class 'statsmodels.iolib.summary.Summary'>\n",
       " \"\"\"\n",
       "                             OLS Regression Results                            \n",
       " ==============================================================================\n",
       " Dep. Variable:                dem_ind   R-squared:                       0.438\n",
       " Model:                            OLS   Adj. R-squared:                  0.438\n",
       " Method:                 Least Squares   F-statistic:                     396.4\n",
       " Date:                Fri, 14 Jun 2024   Prob (F-statistic):           7.94e-44\n",
       " Time:                        14:43:04   Log-Likelihood:                -110.72\n",
       " No. Observations:                 958   AIC:                             225.4\n",
       " Df Residuals:                     956   BIC:                             235.2\n",
       " Df Model:                           1                                         \n",
       " Covariance Type:              cluster                                         \n",
       " ==============================================================================\n",
       "                  coef    std err          z      P>|z|      [0.025      0.975]\n",
       " ------------------------------------------------------------------------------\n",
       " const         -1.3548      0.100    -13.491      0.000      -1.552      -1.158\n",
       " log_gdppc      0.2357      0.012     19.910      0.000       0.212       0.259\n",
       " ==============================================================================\n",
       " Omnibus:                       15.550   Durbin-Watson:                   0.894\n",
       " Prob(Omnibus):                  0.000   Jarque-Bera (JB):               12.170\n",
       " Skew:                          -0.186   Prob(JB):                      0.00228\n",
       " Kurtosis:                       2.592   Cond. No.                         67.3\n",
       " ==============================================================================\n",
       " \n",
       " Notes:\n",
       " [1] Standard Errors are robust to cluster correlation (cluster)\n",
       " \"\"\",\n",
       " 0.23567310887708887,\n",
       " 3.34264805961516e-88)"
      ]
     },
     "execution_count": 10,
     "metadata": {},
     "output_type": "execute_result"
    }
   ],
   "source": [
    "regression_data = data[['dem_ind', 'log_gdppc', 'country']].dropna()\n",
    "model = sm.OLS(regression_data['dem_ind'], sm.add_constant(regression_data['log_gdppc'])).fit(cov_type='cluster', cov_kwds={'groups': regression_data['country']})\n",
    "coef = model.params['log_gdppc']\n",
    "p_value = model.pvalues['log_gdppc']\n",
    "\n",
    "model.summary(), coef, p_value"
   ]
  },
  {
   "cell_type": "code",
   "execution_count": null,
   "metadata": {},
   "outputs": [],
   "source": []
  },
  {
   "cell_type": "code",
   "execution_count": 11,
   "metadata": {},
   "outputs": [
    {
     "data": {
      "text/plain": [
       "(0.23567310887708887, 0.008625848444172586)"
      ]
     },
     "execution_count": 11,
     "metadata": {},
     "output_type": "execute_result"
    }
   ],
   "source": [
    "model_no_cluster = sm.OLS(regression_data['dem_ind'], sm.add_constant(regression_data['log_gdppc'])).fit()\n",
    "coef_no_cluster = model_no_cluster.params['log_gdppc']\n",
    "std_err_no_cluster = model_no_cluster.bse['log_gdppc']\n",
    "coef_no_cluster, std_err_no_cluster"
   ]
  }
 ],
 "metadata": {
  "kernelspec": {
   "display_name": "gis",
   "language": "python",
   "name": "python3"
  },
  "language_info": {
   "codemirror_mode": {
    "name": "ipython",
    "version": 3
   },
   "file_extension": ".py",
   "mimetype": "text/x-python",
   "name": "python",
   "nbconvert_exporter": "python",
   "pygments_lexer": "ipython3",
   "version": "3.11.5"
  }
 },
 "nbformat": 4,
 "nbformat_minor": 2
}
